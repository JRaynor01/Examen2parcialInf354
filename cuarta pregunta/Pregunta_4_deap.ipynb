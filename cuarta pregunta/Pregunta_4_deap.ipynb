{
  "nbformat": 4,
  "nbformat_minor": 0,
  "metadata": {
    "colab": {
      "provenance": []
    },
    "kernelspec": {
      "name": "python3",
      "display_name": "Python 3"
    },
    "language_info": {
      "name": "python"
    }
  },
  "cells": [
    {
      "cell_type": "code",
      "source": [
        "pip install deap"
      ],
      "metadata": {
        "colab": {
          "base_uri": "https://localhost:8080/"
        },
        "id": "791sPvGltQwf",
        "outputId": "268e0e18-f4b1-48a7-b4ad-e1998905d83f"
      },
      "execution_count": 2,
      "outputs": [
        {
          "output_type": "stream",
          "name": "stdout",
          "text": [
            "Looking in indexes: https://pypi.org/simple, https://us-python.pkg.dev/colab-wheels/public/simple/\n",
            "Collecting deap\n",
            "  Downloading deap-1.3.3-cp38-cp38-manylinux_2_5_x86_64.manylinux1_x86_64.manylinux_2_17_x86_64.manylinux2014_x86_64.whl (139 kB)\n",
            "\u001b[K     |████████████████████████████████| 139 kB 4.9 MB/s \n",
            "\u001b[?25hRequirement already satisfied: numpy in /usr/local/lib/python3.8/dist-packages (from deap) (1.21.6)\n",
            "Installing collected packages: deap\n",
            "Successfully installed deap-1.3.3\n"
          ]
        }
      ]
    },
    {
      "cell_type": "code",
      "execution_count": 3,
      "metadata": {
        "colab": {
          "base_uri": "https://localhost:8080/"
        },
        "id": "I5NPWhE8tG4H",
        "outputId": "b4774f30-46bd-4314-8e06-be795d741e48"
      },
      "outputs": [
        {
          "output_type": "stream",
          "name": "stdout",
          "text": [
            "gen\tnevals\tmean\tmin\tmax\n",
            "0  \t10    \t43.4\t31 \t53 \n",
            "1  \t9     \t40.3\t30 \t53 \n",
            "2  \t10    \t40  \t27 \t59 \n",
            "3  \t8     \t39.2\t26 \t52 \n",
            "4  \t8     \t37.2\t26 \t53 \n",
            "5  \t6     \t33.7\t26 \t56 \n",
            "6  \t6     \t32.7\t25 \t56 \n",
            "7  \t8     \t36.2\t25 \t44 \n",
            "8  \t10    \t42.6\t25 \t56 \n",
            "9  \t6     \t42.7\t25 \t56 \n",
            "10 \t6     \t32.8\t25 \t41 \n",
            "11 \t10    \t28.4\t25 \t36 \n",
            "12 \t10    \t28.4\t25 \t42 \n",
            "13 \t7     \t26.8\t25 \t43 \n",
            "14 \t8     \t25.8\t25 \t29 \n",
            "15 \t10    \t29.2\t25 \t42 \n",
            "16 \t8     \t27.1\t25 \t42 \n",
            "17 \t6     \t25.4\t25 \t29 \n",
            "18 \t10    \t31.8\t25 \t42 \n",
            "19 \t8     \t30.7\t25 \t42 \n",
            "20 \t8     \t27.3\t25 \t42 \n",
            "21 \t8     \t26.7\t25 \t42 \n",
            "22 \t10    \t25  \t25 \t25 \n",
            "23 \t8     \t25  \t25 \t25 \n",
            "24 \t4     \t25  \t25 \t25 \n",
            "25 \t6     \t28.1\t25 \t56 \n",
            "26 \t10    \t25  \t25 \t25 \n",
            "27 \t10    \t25  \t25 \t25 \n",
            "28 \t6     \t25  \t25 \t25 \n",
            "29 \t10    \t25  \t25 \t25 \n",
            "30 \t8     \t26.7\t25 \t42 \n",
            "------------Resultados---------------\n",
            "[[3, 1, 0, 2, 4], [3, 1, 0, 2, 4], [3, 1, 0, 2, 4], [3, 1, 0, 2, 4], [4, 1, 0, 2, 3], [3, 1, 0, 2, 4], [3, 1, 0, 2, 4], [3, 1, 0, 2, 4], [3, 1, 0, 2, 4], [3, 1, 0, 2, 4]]\n",
            "------------Mejor Camino---------------\n",
            "[[3, 1, 0, 2, 4]]\n",
            "------------Distancia Minima---------------\n",
            "(25,)\n"
          ]
        }
      ],
      "source": [
        "from deap import creator, base, tools, algorithms\n",
        "import numpy as np\n",
        "toolbox = base.Toolbox()\n",
        "n = 5\n",
        "\n",
        "creator.create(\"FitnessMin\", base.Fitness, weights=(-1.0,))\n",
        "creator.create(\"EstrIndividuo\", list, fitness=creator.FitnessMin)\n",
        "toolbox.register(\"Genes\", np.random.permutation, n)\n",
        "toolbox.register(\"Individuos\", tools.initIterate, creator.EstrIndividuo, toolbox.Genes)\n",
        "toolbox.register(\"Populacao\", tools.initRepeat, list, toolbox.Individuos)\n",
        "pop = toolbox.Populacao(n=10)\n",
        "toolbox.register(\"mate\", tools.cxPartialyMatched)\n",
        "toolbox.register(\"mutate\", tools.mutShuffleIndexes, indpb=0.1)\n",
        "toolbox.register(\"select\", tools.selTournament, tournsize=2)\n",
        "dist = [\n",
        "    [0, 7, 9, 8, 20],\n",
        "    [7, 0, 10, 4, 11],\n",
        "    [9, 10, 0, 15, 5],\n",
        "    [8, 4, 15, 0, 17],\n",
        "    [20, 11, 5, 17, 0]\n",
        "]\n",
        "\n",
        "\n",
        "def apt(individuo):\n",
        "    f = 0\n",
        "    for i in range(n-1):\n",
        "        local1 = individuo[i]\n",
        "        local2 = individuo[i+1]\n",
        "        distancia = dist[local1][local2]\n",
        "        f = f + distancia\n",
        "    return f,\n",
        "\n",
        "\n",
        "toolbox.register(\"evaluate\", apt)\n",
        "\n",
        "\n",
        "def estadisticaGuardada(individuo):\n",
        "    return individuo.fitness.values\n",
        "\n",
        "\n",
        "estadistica = tools.Statistics(estadisticaGuardada)\n",
        "estadistica.register('mean', np.mean)\n",
        "estadistica.register('min', np.min)\n",
        "estadistica.register('max', np.max)\n",
        "\n",
        "hof = tools.HallOfFame(1)\n",
        "\n",
        "resultado, log = algorithms.eaSimple(\n",
        "    pop,\n",
        "    toolbox,\n",
        "    cxpb=0.8,\n",
        "    mutpb=0.1,\n",
        "    stats=estadistica,\n",
        "    ngen=30,\n",
        "    halloffame=hof,\n",
        "    verbose=True\n",
        ")\n",
        "print(\"------------Resultados---------------\")\n",
        "print(resultado)\n",
        "print(\"------------Mejor Camino---------------\")\n",
        "print(hof)\n",
        "\n",
        "menor = hof[0]\n",
        "print(\"------------Distancia Minima---------------\")\n",
        "print(apt(menor))\n",
        "\n"
      ]
    }
  ]
}